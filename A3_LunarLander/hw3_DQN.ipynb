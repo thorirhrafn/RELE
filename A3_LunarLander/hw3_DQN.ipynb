{
  "cells": [
    {
      "cell_type": "code",
      "execution_count": 1,
      "metadata": {
        "colab": {
          "base_uri": "https://localhost:8080/"
        },
        "id": "y8vuPnMuAq0c",
        "outputId": "0ccd2e17-9c88-4781-a25d-218c9f410338"
      },
      "outputs": [
        {
          "output_type": "stream",
          "name": "stdout",
          "text": [
            "Collecting swig\n",
            "  Downloading swig-4.1.1-py2.py3-none-manylinux_2_5_x86_64.manylinux1_x86_64.whl (1.8 MB)\n",
            "\u001b[2K     \u001b[90m━━━━━━━━━━━━━━━━━━━━━━━━━━━━━━━━━━━━━━━━\u001b[0m \u001b[32m1.8/1.8 MB\u001b[0m \u001b[31m10.4 MB/s\u001b[0m eta \u001b[36m0:00:00\u001b[0m\n",
            "\u001b[?25hInstalling collected packages: swig\n",
            "Successfully installed swig-4.1.1\n",
            "Collecting gymnasium\n",
            "  Downloading gymnasium-0.29.1-py3-none-any.whl (953 kB)\n",
            "\u001b[2K     \u001b[90m━━━━━━━━━━━━━━━━━━━━━━━━━━━━━━━━━━━━━━━\u001b[0m \u001b[32m953.9/953.9 kB\u001b[0m \u001b[31m6.9 MB/s\u001b[0m eta \u001b[36m0:00:00\u001b[0m\n",
            "\u001b[?25hRequirement already satisfied: numpy>=1.21.0 in /usr/local/lib/python3.10/dist-packages (from gymnasium) (1.23.5)\n",
            "Requirement already satisfied: cloudpickle>=1.2.0 in /usr/local/lib/python3.10/dist-packages (from gymnasium) (2.2.1)\n",
            "Requirement already satisfied: typing-extensions>=4.3.0 in /usr/local/lib/python3.10/dist-packages (from gymnasium) (4.5.0)\n",
            "Collecting farama-notifications>=0.0.1 (from gymnasium)\n",
            "  Downloading Farama_Notifications-0.0.4-py3-none-any.whl (2.5 kB)\n",
            "Installing collected packages: farama-notifications, gymnasium\n",
            "Successfully installed farama-notifications-0.0.4 gymnasium-0.29.1\n",
            "Requirement already satisfied: gym[box2d] in /usr/local/lib/python3.10/dist-packages (0.25.2)\n",
            "Requirement already satisfied: numpy>=1.18.0 in /usr/local/lib/python3.10/dist-packages (from gym[box2d]) (1.23.5)\n",
            "Requirement already satisfied: cloudpickle>=1.2.0 in /usr/local/lib/python3.10/dist-packages (from gym[box2d]) (2.2.1)\n",
            "Requirement already satisfied: gym-notices>=0.0.4 in /usr/local/lib/python3.10/dist-packages (from gym[box2d]) (0.0.8)\n",
            "Collecting box2d-py==2.3.5 (from gym[box2d])\n",
            "  Downloading box2d-py-2.3.5.tar.gz (374 kB)\n",
            "\u001b[2K     \u001b[90m━━━━━━━━━━━━━━━━━━━━━━━━━━━━━━━━━━━━━━━\u001b[0m \u001b[32m374.4/374.4 kB\u001b[0m \u001b[31m6.5 MB/s\u001b[0m eta \u001b[36m0:00:00\u001b[0m\n",
            "\u001b[?25h  Preparing metadata (setup.py) ... \u001b[?25l\u001b[?25hdone\n",
            "Collecting pygame==2.1.0 (from gym[box2d])\n",
            "  Downloading pygame-2.1.0-cp310-cp310-manylinux_2_17_x86_64.manylinux2014_x86_64.whl (18.3 MB)\n",
            "\u001b[2K     \u001b[90m━━━━━━━━━━━━━━━━━━━━━━━━━━━━━━━━━━━━━━━━\u001b[0m \u001b[32m18.3/18.3 MB\u001b[0m \u001b[31m37.6 MB/s\u001b[0m eta \u001b[36m0:00:00\u001b[0m\n",
            "\u001b[?25hRequirement already satisfied: swig==4.* in /usr/local/lib/python3.10/dist-packages (from gym[box2d]) (4.1.1)\n",
            "Building wheels for collected packages: box2d-py\n",
            "  Building wheel for box2d-py (setup.py) ... \u001b[?25l\u001b[?25hdone\n",
            "  Created wheel for box2d-py: filename=box2d_py-2.3.5-cp310-cp310-linux_x86_64.whl size=2373126 sha256=298f508b2f92408460e6a75756ba62f6ecee68d139fe0874b336a370e83b437e\n",
            "  Stored in directory: /root/.cache/pip/wheels/db/8f/6a/eaaadf056fba10a98d986f6dce954e6201ba3126926fc5ad9e\n",
            "Successfully built box2d-py\n",
            "Installing collected packages: box2d-py, pygame\n",
            "  Attempting uninstall: pygame\n",
            "    Found existing installation: pygame 2.5.2\n",
            "    Uninstalling pygame-2.5.2:\n",
            "      Successfully uninstalled pygame-2.5.2\n",
            "Successfully installed box2d-py-2.3.5 pygame-2.1.0\n"
          ]
        }
      ],
      "source": [
        "!pip install swig\n",
        "!pip install gymnasium\n",
        "!pip install gym[box2d]"
      ]
    },
    {
      "cell_type": "code",
      "execution_count": 12,
      "metadata": {
        "id": "8AGgBN3fAjxi"
      },
      "outputs": [],
      "source": [
        "import gymnasium as gym\n",
        "import numpy as np\n",
        "import math\n",
        "import random\n",
        "import matplotlib\n",
        "import matplotlib.pyplot as plt\n",
        "from collections import namedtuple, deque\n",
        "from itertools import count\n",
        "\n",
        "import torch as T\n",
        "import torch.nn as nn\n",
        "import torch.optim as optim\n",
        "import torch.nn.functional as F"
      ]
    },
    {
      "cell_type": "code",
      "execution_count": 3,
      "metadata": {
        "colab": {
          "base_uri": "https://localhost:8080/"
        },
        "id": "JT_Wau0WFakG",
        "outputId": "8e6a8d4f-cb26-4f1e-8c48-e4202a949ede"
      },
      "outputs": [
        {
          "output_type": "execute_result",
          "data": {
            "text/plain": [
              "<contextlib.ExitStack at 0x7cde3c517e50>"
            ]
          },
          "metadata": {},
          "execution_count": 3
        }
      ],
      "source": [
        "is_ipython = 'inline' in matplotlib.get_backend()\n",
        "if is_ipython:\n",
        "    from IPython import display\n",
        "\n",
        "plt.ion()"
      ]
    },
    {
      "cell_type": "code",
      "execution_count": 4,
      "metadata": {
        "colab": {
          "base_uri": "https://localhost:8080/"
        },
        "id": "sQGSG12JCeWb",
        "outputId": "9df74fe4-e981-4952-d732-35ac96584c09"
      },
      "outputs": [
        {
          "output_type": "stream",
          "name": "stdout",
          "text": [
            "cuda\n"
          ]
        }
      ],
      "source": [
        "# device will be 'cuda' if a GPU is available\n",
        "device = T.device('cuda' if T.cuda.is_available() else 'cpu')\n",
        "print(device)"
      ]
    },
    {
      "cell_type": "code",
      "execution_count": 5,
      "metadata": {
        "id": "TyC_wvZNBYfJ"
      },
      "outputs": [],
      "source": [
        "Transition = namedtuple('Transition',  ('state', 'action', 'next_state', 'reward'))\n",
        "\n",
        "class ReplayBuffer(object):\n",
        "\n",
        "    def __init__(self, capacity):\n",
        "        self.memory = deque([], maxlen=capacity)\n",
        "\n",
        "    def push(self, *args):\n",
        "        # Store transition in buffer memory\n",
        "        self.memory.append(Transition(*args))\n",
        "\n",
        "    def sample(self, batch_size):\n",
        "        # Return random samples from the buffer for training\n",
        "        return random.sample(self.memory, batch_size)\n",
        "\n",
        "    def __len__(self):\n",
        "        return len(self.memory)"
      ]
    },
    {
      "cell_type": "code",
      "execution_count": 19,
      "metadata": {
        "id": "S10-GIdKCVLw"
      },
      "outputs": [],
      "source": [
        "# Define the model for the neural network\n",
        "# Simple feed forward network with ReLu activation\n",
        "\n",
        "class DQN(nn.Module):\n",
        "\n",
        "  def __init__(self, hidden_units, num_observations, num_actions):\n",
        "    super().__init__()\n",
        "    self.fc1 = nn.Linear(num_observations, hidden_units) # Input is state observation\n",
        "    self.av1 = nn.ReLU()\n",
        "    self.fc2 = nn.Linear(hidden_units, hidden_units)\n",
        "    self.av2 = nn.ReLU()\n",
        "    self.fc3 = nn.Linear(hidden_units, hidden_units)\n",
        "    self.av3 = nn.ReLU()\n",
        "    self.fc4 = nn.Linear(hidden_units, num_actions) # Output layer is avaiable actions\n",
        "\n",
        "    return\n",
        "\n",
        "  def forward(self, x):\n",
        "    x = self.fc1(x)\n",
        "    x = self.av1(x)\n",
        "    x = self.fc2(x)\n",
        "    x = self.av2(x)\n",
        "    x = self.fc3(x)\n",
        "    x = self.av3(x)\n",
        "    x = self.fc4(x)\n",
        "    return x\n"
      ]
    },
    {
      "cell_type": "code",
      "execution_count": 20,
      "metadata": {
        "id": "8vAySDwQDXJ8"
      },
      "outputs": [],
      "source": [
        "env = gym.make(\"LunarLander-v2\")"
      ]
    },
    {
      "cell_type": "code",
      "execution_count": 21,
      "metadata": {
        "id": "6SX7RI83DArA"
      },
      "outputs": [],
      "source": [
        "BATCH_SIZE = 64\n",
        "GAMMA = 0.99\n",
        "EPS_START = 0.9\n",
        "EPS_END = 0.05\n",
        "EPS_DECAY = 1000\n",
        "TAU = 0.005\n",
        "LR = 1e-4\n",
        "hidden_units = 128\n",
        "\n",
        "# number of actions\n",
        "num_actions = env.action_space.n\n",
        "# number of state observations\n",
        "state, info = env.reset()\n",
        "num_observations = len(state)\n",
        "\n",
        "policy_net = DQN(hidden_units, num_observations, num_actions).to(device)\n",
        "target_net = DQN(hidden_units, num_observations, num_actions).to(device)\n",
        "target_net.load_state_dict(policy_net.state_dict())\n",
        "\n",
        "optimizer = optim.AdamW(policy_net.parameters(), lr=LR, amsgrad=True)\n",
        "memory = ReplayBuffer(10000)\n",
        "\n",
        "\n",
        "time_step = 0\n",
        "\n",
        "def select_action(state, train=True):\n",
        "  if train:\n",
        "    global time_step\n",
        "    random_sample = random.random()\n",
        "    eps_threshold = EPS_END + (EPS_START - EPS_END) * \\\n",
        "        math.exp(-1. * time_step / EPS_DECAY)\n",
        "    time_step += 1\n",
        "    # epsilon greedy to select action from the policy network\n",
        "    if random_sample > eps_threshold:\n",
        "        with T.no_grad():\n",
        "            # t.max(1) will return the largest column value of each row.\n",
        "            # second column on max result is index of where max element was\n",
        "            # found, so we pick action with the larger expected reward.\n",
        "            return policy_net(state).max(1)[1].view(1, 1)\n",
        "    else:\n",
        "        return T.tensor([[env.action_space.sample()]], device=device, dtype=T.long)\n",
        "  else:\n",
        "    return policy_net(state).max(1)[1].view(1, 1)\n",
        "\n",
        "episode_durations = []\n",
        "episode_rewards = []\n"
      ]
    },
    {
      "cell_type": "code",
      "execution_count": 9,
      "metadata": {
        "id": "EWYbzn-zKp5m"
      },
      "outputs": [],
      "source": [
        "def plot_rewards(show_result=False):\n",
        "    plt.figure(figsize=(10, 6))\n",
        "    rewards_t = T.tensor(episode_rewards, dtype=T.float)\n",
        "    if show_result:\n",
        "        plt.title('Performance Result for DQN-Agent')\n",
        "    else:\n",
        "        plt.clf()\n",
        "        plt.title('Training DQN-Agent ...')\n",
        "    plt.xlabel('Episodes')\n",
        "    plt.ylabel('Reward')\n",
        "    plt.legend()\n",
        "    plt.grid(True)\n",
        "    plt.plot(rewards_t.numpy(), label='Q Agent', marker='o')\n",
        "    # Plot also 100 episode averages\n",
        "    if len(rewards_t) >= 100:\n",
        "        means = rewards_t.unfold(0, 100, 1).mean(1).view(-1)\n",
        "        means = T.cat((T.zeros(99), means))\n",
        "        plt.plot(means.numpy())\n",
        "\n",
        "    plt.pause(0.001)\n",
        "    if is_ipython:\n",
        "        if not show_result:\n",
        "            display.display(plt.gcf())\n",
        "            display.clear_output(wait=True)\n",
        "        else:\n",
        "            display.display(plt.gcf())"
      ]
    },
    {
      "cell_type": "code",
      "execution_count": 22,
      "metadata": {
        "id": "kfRI3oGCGIZo"
      },
      "outputs": [],
      "source": [
        "def optimize_policy():\n",
        "    if len(memory) < BATCH_SIZE:\n",
        "        return\n",
        "    transitions = memory.sample(BATCH_SIZE)\n",
        "    batch = Transition(*zip(*transitions))\n",
        "\n",
        "    # Compute a mask of non-final states\n",
        "    non_final_mask = T.tensor(tuple(map(lambda s: s is not None, batch.next_state)), device=device, dtype=T.bool)\n",
        "    non_final_next_states = T.cat([s for s in batch.next_state if s is not None])\n",
        "    state_batch = T.cat(batch.state)\n",
        "    action_batch = T.cat(batch.action)\n",
        "    reward_batch = T.cat(batch.reward)\n",
        "\n",
        "    # Compute Q(s, a)\n",
        "    state_action_values = policy_net(state_batch).gather(1, action_batch)\n",
        "\n",
        "    # Compute V(s) for all next states.\n",
        "    next_state_values = T.zeros(BATCH_SIZE, device=device)\n",
        "    with T.no_grad():\n",
        "        next_state_values[non_final_mask] = target_net(non_final_next_states).max(1)[0]\n",
        "    # Compute expected Q values\n",
        "    expected_state_action_values = (next_state_values * GAMMA) + reward_batch\n",
        "\n",
        "    # Compute Huber loss\n",
        "    criterion = nn.SmoothL1Loss()\n",
        "    loss = criterion(state_action_values, expected_state_action_values.unsqueeze(1))\n",
        "\n",
        "    # Optimize the model\n",
        "    optimizer.zero_grad()\n",
        "    loss.backward()\n",
        "    # In-place gradient clipping\n",
        "    T.nn.utils.clip_grad_value_(policy_net.parameters(), 100)\n",
        "    optimizer.step()"
      ]
    },
    {
      "cell_type": "code",
      "execution_count": 23,
      "metadata": {
        "colab": {
          "base_uri": "https://localhost:8080/"
        },
        "id": "ol1Eq0j7JJ7B",
        "outputId": "30dc2339-b300-45a1-ac93-cd2d3e8ddb21"
      },
      "outputs": [
        {
          "output_type": "stream",
          "name": "stdout",
          "text": [
            "Episode 20 completed. Moving Average Reward over last 20 episodes: -174.19917430427978\n",
            "Episode 40 completed. Moving Average Reward over last 20 episodes: -173.4791393801278\n",
            "Episode 60 completed. Moving Average Reward over last 20 episodes: -139.31670089706623\n",
            "Episode 80 completed. Moving Average Reward over last 20 episodes: -92.18181950431156\n",
            "Episode 100 completed. Moving Average Reward over last 20 episodes: -94.66780344368615\n",
            "Episode 120 completed. Moving Average Reward over last 20 episodes: -81.76246461025717\n",
            "Episode 140 completed. Moving Average Reward over last 20 episodes: -66.16333714580284\n",
            "Episode 160 completed. Moving Average Reward over last 20 episodes: -72.72515597968592\n",
            "Episode 180 completed. Moving Average Reward over last 20 episodes: -35.61160084611621\n",
            "Episode 200 completed. Moving Average Reward over last 20 episodes: -46.00718018818561\n",
            "Episode 220 completed. Moving Average Reward over last 20 episodes: -20.58333172946537\n",
            "Episode 240 completed. Moving Average Reward over last 20 episodes: -19.77632990456012\n",
            "Episode 260 completed. Moving Average Reward over last 20 episodes: -26.74865307418484\n",
            "Episode 280 completed. Moving Average Reward over last 20 episodes: -2.0158646338916255\n",
            "Episode 300 completed. Moving Average Reward over last 20 episodes: 129.4583194024135\n",
            "Episode 320 completed. Moving Average Reward over last 20 episodes: 212.3545963652767\n",
            "Episode 340 completed. Moving Average Reward over last 20 episodes: 177.10551802707576\n",
            "Episode 360 completed. Moving Average Reward over last 20 episodes: 181.25319095961055\n",
            "Episode 380 completed. Moving Average Reward over last 20 episodes: 148.88690020153254\n",
            "Episode 400 completed. Moving Average Reward over last 20 episodes: 172.09533446574207\n",
            "Episode 420 completed. Moving Average Reward over last 20 episodes: 159.1986581651754\n",
            "Episode 440 completed. Moving Average Reward over last 20 episodes: 207.8288462830147\n",
            "Episode 460 completed. Moving Average Reward over last 20 episodes: 238.84144675947203\n",
            "Episode 480 completed. Moving Average Reward over last 20 episodes: 213.3443051481573\n",
            "Episode 500 completed. Moving Average Reward over last 20 episodes: 210.038148726531\n",
            "Episode 520 completed. Moving Average Reward over last 20 episodes: 183.50050238169945\n",
            "Episode 540 completed. Moving Average Reward over last 20 episodes: 225.78799451105237\n",
            "Episode 560 completed. Moving Average Reward over last 20 episodes: 230.93628217000725\n",
            "Episode 580 completed. Moving Average Reward over last 20 episodes: 229.9096610753523\n",
            "Episode 600 completed. Moving Average Reward over last 20 episodes: 241.9479202233981\n",
            "Episode 620 completed. Moving Average Reward over last 20 episodes: 259.1223921581949\n",
            "Episode 640 completed. Moving Average Reward over last 20 episodes: 236.06051427060842\n",
            "Episode 660 completed. Moving Average Reward over last 20 episodes: 245.36836078817015\n",
            "Episode 680 completed. Moving Average Reward over last 20 episodes: 233.269360417509\n",
            "Episode 700 completed. Moving Average Reward over last 20 episodes: 234.71700391393\n",
            "Episode 720 completed. Moving Average Reward over last 20 episodes: 252.249722119205\n",
            "Episode 740 completed. Moving Average Reward over last 20 episodes: 247.28635451573183\n",
            "Episode 760 completed. Moving Average Reward over last 20 episodes: 259.7067169648675\n",
            "Episode 780 completed. Moving Average Reward over last 20 episodes: 249.28463812417985\n",
            "Episode 800 completed. Moving Average Reward over last 20 episodes: 266.3066109597319\n",
            "Episode 820 completed. Moving Average Reward over last 20 episodes: 270.5583926919486\n",
            "Episode 840 completed. Moving Average Reward over last 20 episodes: 246.5034532314566\n",
            "Episode 860 completed. Moving Average Reward over last 20 episodes: 267.55459720768147\n",
            "Episode 880 completed. Moving Average Reward over last 20 episodes: 276.0749959348924\n",
            "Episode 900 completed. Moving Average Reward over last 20 episodes: 250.1225460383493\n",
            "Episode 920 completed. Moving Average Reward over last 20 episodes: 232.30101238650863\n",
            "Episode 940 completed. Moving Average Reward over last 20 episodes: 241.57073477408366\n",
            "Episode 960 completed. Moving Average Reward over last 20 episodes: 234.86329932387912\n",
            "Episode 980 completed. Moving Average Reward over last 20 episodes: 239.24626249152024\n",
            "Episode 1000 completed. Moving Average Reward over last 20 episodes: 238.22400126913004\n"
          ]
        }
      ],
      "source": [
        "timesteps = 1000\n",
        "moving_average_window = 20\n",
        "n_episodes = 50\n",
        "step_size = 20\n",
        "\n",
        "if T.cuda.is_available():\n",
        "    n_episodes = 1000\n",
        "\n",
        "episode_numbers = []\n",
        "moving_average_rewards = []\n",
        "\n",
        "last_n_rewards = []  # To keep the rewards of the last MA episodes\n",
        "\n",
        "for episode in range(1, n_episodes + 1):\n",
        "    # Reset the environment and get the initial state\n",
        "    state, info = env.reset()\n",
        "    state = T.tensor(state, dtype=T.float32, device=device).unsqueeze(0)\n",
        "    G = 0\n",
        "\n",
        "    for _ in range(timesteps):\n",
        "        action = select_action(state)\n",
        "        observation, reward, terminated, truncated, _ = env.step(action.item())\n",
        "        G += reward\n",
        "        reward = T.tensor([reward], device=device)\n",
        "        done = terminated or truncated\n",
        "\n",
        "        if terminated:\n",
        "            next_state = None\n",
        "        else:\n",
        "            next_state = T.tensor(observation, dtype=T.float32, device=device).unsqueeze(0)\n",
        "\n",
        "        # Store the transition in memory\n",
        "        memory.push(state, action, next_state, reward)\n",
        "\n",
        "        state = next_state\n",
        "        # Perform one step of the optimization (on the policy network)\n",
        "        optimize_policy()\n",
        "\n",
        "        # Soft update of the target network's weights\n",
        "        target_net_state_dict = target_net.state_dict()\n",
        "        policy_net_state_dict = policy_net.state_dict()\n",
        "\n",
        "        for key in policy_net_state_dict:\n",
        "            target_net_state_dict[key] = policy_net_state_dict[key]*TAU + target_net_state_dict[key]*(1-TAU)\n",
        "        target_net.load_state_dict(target_net_state_dict)\n",
        "\n",
        "        if done:\n",
        "            # episode_durations.append(t + 1)\n",
        "            episode_rewards.append(G)\n",
        "            break\n",
        "\n",
        "    last_n_rewards.append(G)\n",
        "\n",
        "    if len(last_n_rewards) > moving_average_window:\n",
        "        last_n_rewards.pop(0)\n",
        "\n",
        "    moving_average = np.mean(last_n_rewards)\n",
        "\n",
        "    if episode % step_size == 0:\n",
        "        episode_numbers.append(episode)\n",
        "        moving_average_rewards.append(moving_average)\n",
        "        print(f\"Episode {episode} completed. Moving Average Reward over last {moving_average_window} episodes: {moving_average}\")\n"
      ]
    },
    {
      "cell_type": "code",
      "source": [
        "plt.figure(figsize=(10, 6))\n",
        "plt.plot(episode_numbers, moving_average_rewards, label='Q Agent', marker='o')\n",
        "plt.xlabel('Episodes')\n",
        "plt.ylabel('Average Reward')\n",
        "plt.title('Performance Analysis: Deep-Q-learning Agent')\n",
        "plt.legend()\n",
        "plt.grid(True)\n",
        "plt.show()"
      ],
      "metadata": {
        "colab": {
          "base_uri": "https://localhost:8080/",
          "height": 581
        },
        "id": "Zk-_5_L4rUSD",
        "outputId": "d36c0756-1007-4beb-e554-cee169425783"
      },
      "execution_count": 24,
      "outputs": [
        {
          "output_type": "display_data",
          "data": {
            "text/plain": [
              "<Figure size 640x480 with 0 Axes>"
            ]
          },
          "metadata": {}
        },
        {
          "output_type": "display_data",
          "data": {
            "text/plain": [
              "<Figure size 1000x600 with 1 Axes>"
            ],
            "image/png": "[encoded data removed]"
          },
          "metadata": {}
        }
      ]
    },
    {
      "cell_type": "code",
      "execution_count": 57,
      "metadata": {
        "colab": {
          "base_uri": "https://localhost:8080/"
        },
        "id": "Zta-b5E4RAhU",
        "outputId": "55b6944e-dc56-4a29-8c25-588fadec28b4"
      },
      "outputs": [
        {
          "output_type": "stream",
          "name": "stdout",
          "text": [
            "Episode: 1 Reward: 219.52606632234247\n"
          ]
        }
      ],
      "source": [
        "# Test the optimized policy\n",
        "import cv2\n",
        "import os\n",
        "\n",
        "env = gym.make(\"LunarLander-v2\", render_mode=\"rgb_array\")\n",
        "\n",
        "fourcc = cv2.VideoWriter_fourcc(*'XVID')\n",
        "out = cv2.VideoWriter('DQN_gameplay.avi', fourcc, 30.0, (600, 400))\n",
        "\n",
        "for i in range(1,2):\n",
        "    score = 0\n",
        "    state, info = env.reset()\n",
        "\n",
        "    state = T.tensor(state, dtype=T.float32, device=device).unsqueeze(0)\n",
        "\n",
        "    while True:\n",
        "        env.render()\n",
        "        frame = env.render()\n",
        "        out.write(frame)\n",
        "\n",
        "        action = select_action(state, train=False)\n",
        "        observation, reward, terminated, truncated, _ = env.step(action.item())\n",
        "        done = terminated or truncated\n",
        "\n",
        "        if terminated:\n",
        "            next_state = None\n",
        "        else:\n",
        "            next_state = T.tensor(observation, dtype=T.float32, device=device).unsqueeze(0)\n",
        "\n",
        "        state = next_state\n",
        "        score += reward\n",
        "\n",
        "        if done:\n",
        "            break\n",
        "    print(f'Episode: {i} Reward: {score}'.format(i, score))\n",
        "\n",
        "out.release()\n",
        "env.close()\n"
      ]
    }
  ],
  "metadata": {
    "accelerator": "GPU",
    "colab": {
      "provenance": []
    },
    "kernelspec": {
      "display_name": "Python 3",
      "name": "python3"
    },
    "language_info": {
      "name": "python"
    }
  },
  "nbformat": 4,
  "nbformat_minor": 0
}